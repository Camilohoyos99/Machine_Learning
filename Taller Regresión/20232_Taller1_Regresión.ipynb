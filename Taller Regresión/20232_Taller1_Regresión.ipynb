{
 "cells": [
  {
   "cell_type": "markdown",
   "metadata": {
    "id": "dA4IsJkX7OEH"
   },
   "source": [
    "# Taller Regresión Lineal"
   ]
  },
  {
   "cell_type": "markdown",
   "metadata": {
    "id": "JYVJraXbBZwl"
   },
   "source": [
    "## Funciones básicas"
   ]
  },
  {
   "cell_type": "markdown",
   "metadata": {
    "id": "wDK_bVfx7XOF"
   },
   "source": [
    "En primer lugar, importamos las librerías que necesitaremos"
   ]
  },
  {
   "cell_type": "code",
   "execution_count": 2,
   "metadata": {
    "id": "ltH2S66X7keC"
   },
   "outputs": [],
   "source": [
    "import pandas as pd\n",
    "import numpy as np\n",
    "from sklearn.linear_model import LinearRegression #Algoritmo de regresión lineal\n",
    "from sklearn.model_selection import train_test_split #para partir el conjunto de datos en Entrenamiento y Testeo\n",
    "import matplotlib.pyplot as plt #para gráficas\n"
   ]
  },
  {
   "cell_type": "markdown",
   "metadata": {
    "id": "eWVahlvO7zpa"
   },
   "source": [
    "Cargamos un conjunto de datos. Entrenaremos modelos de regresión lineal para un conjunto de datos sobre peces. Se desearía predecir el peso de un pez, a partir de algunas de sus medidas. Longitud vertical, diagonal, etc. Nuestra variable a predecir será el peso *Weight*.\n",
    "Detalles sobre el conjunto de datos [Aquí](https://www.kaggle.com/datasets/aungpyaeap/fish-market).\n",
    "\n",
    "Si está trabajando en colab, oprima el ícono de folder en la izquierda y luego el ícono de *subir.* Cargue un archivo de valrores separados por comas (.csv). A continuación usamos la función de pandas *read_csv*. Ingresamos como parámetro la ruta de ubicación del archivo. Si ya se ha subido el archivo, se puede desplegar el menú sobre dicho archivo y usar *copiar ruta*."
   ]
  },
  {
   "cell_type": "code",
   "execution_count": 7,
   "metadata": {
    "colab": {
     "base_uri": "https://localhost:8080/",
     "height": 363
    },
    "id": "y8DsCI278fQ-",
    "outputId": "28a3ad92-8875-46c7-eb18-5e8d2a5cf477"
   },
   "outputs": [
    {
     "data": {
      "text/html": [
       "<div>\n",
       "<style scoped>\n",
       "    .dataframe tbody tr th:only-of-type {\n",
       "        vertical-align: middle;\n",
       "    }\n",
       "\n",
       "    .dataframe tbody tr th {\n",
       "        vertical-align: top;\n",
       "    }\n",
       "\n",
       "    .dataframe thead th {\n",
       "        text-align: right;\n",
       "    }\n",
       "</style>\n",
       "<table border=\"1\" class=\"dataframe\">\n",
       "  <thead>\n",
       "    <tr style=\"text-align: right;\">\n",
       "      <th></th>\n",
       "      <th>Species</th>\n",
       "      <th>Weight</th>\n",
       "      <th>Length1</th>\n",
       "      <th>Length2</th>\n",
       "      <th>Length3</th>\n",
       "      <th>Height</th>\n",
       "      <th>Width</th>\n",
       "    </tr>\n",
       "  </thead>\n",
       "  <tbody>\n",
       "    <tr>\n",
       "      <th>0</th>\n",
       "      <td>Bream</td>\n",
       "      <td>242.0</td>\n",
       "      <td>23.2</td>\n",
       "      <td>25.4</td>\n",
       "      <td>30.0</td>\n",
       "      <td>11.5200</td>\n",
       "      <td>4.0200</td>\n",
       "    </tr>\n",
       "    <tr>\n",
       "      <th>1</th>\n",
       "      <td>Bream</td>\n",
       "      <td>290.0</td>\n",
       "      <td>24.0</td>\n",
       "      <td>26.3</td>\n",
       "      <td>31.2</td>\n",
       "      <td>12.4800</td>\n",
       "      <td>4.3056</td>\n",
       "    </tr>\n",
       "    <tr>\n",
       "      <th>2</th>\n",
       "      <td>Bream</td>\n",
       "      <td>340.0</td>\n",
       "      <td>23.9</td>\n",
       "      <td>26.5</td>\n",
       "      <td>31.1</td>\n",
       "      <td>12.3778</td>\n",
       "      <td>4.6961</td>\n",
       "    </tr>\n",
       "    <tr>\n",
       "      <th>3</th>\n",
       "      <td>Bream</td>\n",
       "      <td>363.0</td>\n",
       "      <td>26.3</td>\n",
       "      <td>29.0</td>\n",
       "      <td>33.5</td>\n",
       "      <td>12.7300</td>\n",
       "      <td>4.4555</td>\n",
       "    </tr>\n",
       "    <tr>\n",
       "      <th>4</th>\n",
       "      <td>Bream</td>\n",
       "      <td>430.0</td>\n",
       "      <td>26.5</td>\n",
       "      <td>29.0</td>\n",
       "      <td>34.0</td>\n",
       "      <td>12.4440</td>\n",
       "      <td>5.1340</td>\n",
       "    </tr>\n",
       "    <tr>\n",
       "      <th>5</th>\n",
       "      <td>Bream</td>\n",
       "      <td>450.0</td>\n",
       "      <td>26.8</td>\n",
       "      <td>29.7</td>\n",
       "      <td>34.7</td>\n",
       "      <td>13.6024</td>\n",
       "      <td>4.9274</td>\n",
       "    </tr>\n",
       "    <tr>\n",
       "      <th>6</th>\n",
       "      <td>Bream</td>\n",
       "      <td>500.0</td>\n",
       "      <td>26.8</td>\n",
       "      <td>29.7</td>\n",
       "      <td>34.5</td>\n",
       "      <td>14.1795</td>\n",
       "      <td>5.2785</td>\n",
       "    </tr>\n",
       "    <tr>\n",
       "      <th>7</th>\n",
       "      <td>Bream</td>\n",
       "      <td>390.0</td>\n",
       "      <td>27.6</td>\n",
       "      <td>30.0</td>\n",
       "      <td>35.0</td>\n",
       "      <td>12.6700</td>\n",
       "      <td>4.6900</td>\n",
       "    </tr>\n",
       "    <tr>\n",
       "      <th>8</th>\n",
       "      <td>Bream</td>\n",
       "      <td>450.0</td>\n",
       "      <td>27.6</td>\n",
       "      <td>30.0</td>\n",
       "      <td>35.1</td>\n",
       "      <td>14.0049</td>\n",
       "      <td>4.8438</td>\n",
       "    </tr>\n",
       "    <tr>\n",
       "      <th>9</th>\n",
       "      <td>Bream</td>\n",
       "      <td>500.0</td>\n",
       "      <td>28.5</td>\n",
       "      <td>30.7</td>\n",
       "      <td>36.2</td>\n",
       "      <td>14.2266</td>\n",
       "      <td>4.9594</td>\n",
       "    </tr>\n",
       "  </tbody>\n",
       "</table>\n",
       "</div>"
      ],
      "text/plain": [
       "  Species  Weight  Length1  Length2  Length3   Height   Width\n",
       "0   Bream   242.0     23.2     25.4     30.0  11.5200  4.0200\n",
       "1   Bream   290.0     24.0     26.3     31.2  12.4800  4.3056\n",
       "2   Bream   340.0     23.9     26.5     31.1  12.3778  4.6961\n",
       "3   Bream   363.0     26.3     29.0     33.5  12.7300  4.4555\n",
       "4   Bream   430.0     26.5     29.0     34.0  12.4440  5.1340\n",
       "5   Bream   450.0     26.8     29.7     34.7  13.6024  4.9274\n",
       "6   Bream   500.0     26.8     29.7     34.5  14.1795  5.2785\n",
       "7   Bream   390.0     27.6     30.0     35.0  12.6700  4.6900\n",
       "8   Bream   450.0     27.6     30.0     35.1  14.0049  4.8438\n",
       "9   Bream   500.0     28.5     30.7     36.2  14.2266  4.9594"
      ]
     },
     "execution_count": 7,
     "metadata": {},
     "output_type": "execute_result"
    }
   ],
   "source": [
    "# Leer archivo. Ingresar la ruta del archivo\n",
    "df=pd.read_csv(\"Fish (2).csv\")\n",
    "\n",
    "# Mostrar las primeras 10 líneas del dataset\n",
    "df.head(10)\n"
   ]
  },
  {
   "cell_type": "markdown",
   "metadata": {
    "id": "NPsd2fEd3Rei"
   },
   "source": [
    "Procedemos a graficar puntos con coordenadas x=Length1, y=Weight para observar si aparentan tener un comportamiento cercano al lineal.\n",
    "\n",
    "Para más detalles sobre diagramas de dispersión ver [AQUÍ](https://www.w3schools.com/python/matplotlib_scatter.asp)."
   ]
  },
  {
   "cell_type": "code",
   "execution_count": 8,
   "metadata": {
    "colab": {
     "base_uri": "https://localhost:8080/",
     "height": 539
    },
    "id": "a8l7_pmRL-cx",
    "outputId": "327f8c79-977e-4b26-8816-96e240eb5ddc"
   },
   "outputs": [
    {
     "data": {
      "text/plain": [
       "<matplotlib.collections.PathCollection at 0x24461f2eec0>"
      ]
     },
     "execution_count": 8,
     "metadata": {},
     "output_type": "execute_result"
    },
    {
     "data": {
      "image/png": "[encoded data removed]",
      "text/plain": [
       "<Figure size 800x600 with 1 Axes>"
      ]
     },
     "metadata": {},
     "output_type": "display_data"
    }
   ],
   "source": [
    "#Graficar diagrama de dispersión para Length1 vs Weight\n",
    "plt.figure(figsize = [8, 6]) #Establecemos el tamaño de la figura\n",
    "plt.scatter(data=df, x='Length1', y='Weight', color= \"green\") #Asignamos la variable x, y y el color para el diagrama de dispersión.\n"
   ]
  },
  {
   "cell_type": "markdown",
   "metadata": {
    "id": "Ur9xkj9r6Jdi"
   },
   "source": [
    "Usaremos el algoritmo para regresión lineal de SciKit Learn. Éste recibe como datos de entrada (X) un arreglo de dos dimensones. Pero aquí tenemos un vector para cada atributo. Queremos entonces una matriz de tamaño (lo que corresponda) x 1. Ése es el significado que tiene el valor -1 en arreglos de Numpy. Siguiendo esta idea, redimensionaremos los datos de entrada X."
   ]
  },
  {
   "cell_type": "code",
   "execution_count": 11,
   "metadata": {},
   "outputs": [
    {
     "data": {
      "text/plain": [
       "0      23.2\n",
       "1      24.0\n",
       "2      23.9\n",
       "3      26.3\n",
       "4      26.5\n",
       "       ... \n",
       "154    11.5\n",
       "155    11.7\n",
       "156    12.1\n",
       "157    13.2\n",
       "158    13.8\n",
       "Name: Length1, Length: 159, dtype: float64"
      ]
     },
     "execution_count": 11,
     "metadata": {},
     "output_type": "execute_result"
    }
   ],
   "source": [
    "df['Length1']"
   ]
  },
  {
   "cell_type": "code",
   "execution_count": 23,
   "metadata": {
    "id": "5Lt0FIELP3os"
   },
   "outputs": [],
   "source": [
    "X = np.array(df['Length1']).reshape(-1, 1) # debemos poner nuestros atributos X en gforma de arreglo\n",
    "y = df['Weight']\n"
   ]
  },
  {
   "cell_type": "markdown",
   "metadata": {
    "id": "qSyBda_Q7wl6"
   },
   "source": [
    "Ahora usamos la función train_test_split para partir el conjunto de datos en dos subconjuntos: entrenamiento y testeo. Para ver ejemplos del uso de esta función ver [AQUÍ](https://www.geeksforgeeks.org/how-to-split-the-dataset-with-scikit-learns-train_test_split-function/).\n",
    "\n",
    "Usar sólo los parámetros X,y, test_size (Porcentaje de los datos correspondiente al conjunto de testeo). Se suelen usar proporciones al rededor de Entrenamiento 80% y Testeo 20%."
   ]
  },
  {
   "cell_type": "code",
   "execution_count": 15,
   "metadata": {
    "id": "NqjP-6yycAdR"
   },
   "outputs": [],
   "source": [
    "# Partir el conjunto de datos en Entrenamiento y Testeo\n",
    "X_train, X_test, y_train, y_test = train_test_split(X, y, test_size = 0.2)"
   ]
  },
  {
   "cell_type": "markdown",
   "metadata": {
    "id": "lAVD7H658zQV"
   },
   "source": [
    "Ahora definamos el modelo de regresión lineal. Nuestro modelo se llamará *regr*. Lo entrenaremos y mediremos su coeficiente de detrminación."
   ]
  },
  {
   "cell_type": "code",
   "execution_count": 18,
   "metadata": {
    "colab": {
     "base_uri": "https://localhost:8080/"
    },
    "id": "qRaftP9ncB6A",
    "outputId": "97ab3067-06f4-4c67-c661-4ef6cfeecbe9"
   },
   "outputs": [
    {
     "name": "stdout",
     "output_type": "stream",
     "text": [
      "score =  0.8329439821422984\n",
      "MSE =  15795.968717283578\n"
     ]
    }
   ],
   "source": [
    "# Modelo de regresión lineal de SciKit Learn\n",
    "\n",
    "#Importar métricas          # métrica para minimizar el error de los teta1,teta2\n",
    "from sklearn.metrics import mean_squared_error, r2_score # métrica para  saber que tan bueno fue el modelo \n",
    "\n",
    "#Se define el algoritmo a usar para entrenar el modelo\n",
    "regr = LinearRegression()\n",
    "#se entrena el modelo con el dataset y etiqueta de entrenamiento\n",
    "regr.fit(X_train, y_train)\n",
    "#se calculan predicciones para el conjunto de test.\n",
    "y_pred = regr.predict(X_test)\n",
    "\n",
    "print(\"score = \", r2_score(y_test, y_pred)) #y_test cumple la función de ser mis datos verdaderos, coin el R2 quiero medir que tan \n",
    "                                            # alejados estan unos entre otros\n",
    "print(\"MSE = \",mean_squared_error(y_test, y_pred))\n",
    "# Recordemos que el MSE mide el promedio de la diferencia entre los datos y la recta que crea el modelo\n",
    "# Siempre me interesa que este error sea pequeño, pero deboi tener en cuenta que esta siempre en la escala de la variable y\n",
    "# Por  lo que se puede interpretar\n",
    "# el score si es una medida directa de verificar la eficiencia del modelo\n"
   ]
  },
  {
   "cell_type": "markdown",
   "metadata": {
    "id": "M1YCZ-nI-Yqg"
   },
   "source": [
    "La salida anterior es el coeficiente de determinación del modelo arrojado por el algoritmo, así como el error cuadrático medio."
   ]
  },
  {
   "cell_type": "markdown",
   "metadata": {
    "id": "_TvXkTfTFv7E"
   },
   "source": [
    "\n",
    "A continuación imprimimos la pendiente y el intercepto de la recta arrojada por el modelo."
   ]
  },
  {
   "cell_type": "code",
   "execution_count": 19,
   "metadata": {
    "colab": {
     "base_uri": "https://localhost:8080/"
    },
    "id": "jfXPca1X-mSw",
    "outputId": "158b9766-c093-4531-b9ba-374562468136"
   },
   "outputs": [
    {
     "name": "stdout",
     "output_type": "stream",
     "text": [
      "slope: 31.8489812251829\n",
      "intercept: -447.2536317754788\n"
     ]
    }
   ],
   "source": [
    "print('slope:', regr.coef_[0])\n",
    "print('intercept:', regr.intercept_)"
   ]
  },
  {
   "cell_type": "markdown",
   "metadata": {
    "id": "SIKIBMg7_RmS"
   },
   "source": [
    "Ahora graficaremos el conjunto de testeo y la recta correspondiente al modelo en una misma gráfica."
   ]
  },
  {
   "cell_type": "code",
   "execution_count": 20,
   "metadata": {
    "colab": {
     "base_uri": "https://localhost:8080/",
     "height": 522
    },
    "id": "juhbsrCdcUKI",
    "outputId": "95ebff0c-d748-407e-a13c-87eeb3d8eb66"
   },
   "outputs": [
    {
     "data": {
      "image/png": "[encoded data removed]",
      "text/plain": [
       "<Figure size 1000x600 with 1 Axes>"
      ]
     },
     "metadata": {},
     "output_type": "display_data"
    }
   ],
   "source": [
    "y_pred = regr.predict(X_test)\n",
    "\n",
    "plt.figure(figsize=(10,6))\n",
    "plt.scatter(X_test, y_test, color ='g')\n",
    "plt.plot(X_test, y_pred, color ='k')\n",
    "plt.show()"
   ]
  },
  {
   "cell_type": "markdown",
   "metadata": {
    "id": "4BvJnaSlCU04"
   },
   "source": [
    "## Su turno"
   ]
  },
  {
   "cell_type": "markdown",
   "metadata": {
    "id": "fWQKeU51-W_P"
   },
   "source": [
    "\n",
    "1. Bosquejar en la misma gráfica el diagrama de dispersión de (Lenght1,Weight) en color verde y el diagrama de dispersión para (Width, Weight) en color azul. Para esto sólo se requiere añadir al código dos líneas seguidas del tipo: plt.scatter(data=df, x=___, y=___, color= ___)\n",
    "\n",
    "2. ¿Cuál modelo tendrá una pendiente mayor?\n",
    "3. Entrenar un modelo de regresión lineal para predecir el peso (Weight), usando la variable Width.\n",
    "4. ¿Cuál tiene mayor Coeficiente de determinación? ¿por qué cree que esto ocurre?"
   ]
  },
  {
   "cell_type": "code",
   "execution_count": 21,
   "metadata": {},
   "outputs": [
    {
     "data": {
      "text/plain": [
       "<matplotlib.collections.PathCollection at 0x244671b6170>"
      ]
     },
     "execution_count": 21,
     "metadata": {},
     "output_type": "execute_result"
    },
    {
     "data": {
      "image/png": "[encoded data removed]",
      "text/plain": [
       "<Figure size 800x600 with 1 Axes>"
      ]
     },
     "metadata": {},
     "output_type": "display_data"
    }
   ],
   "source": [
    "#Graficar diagrama de dispersión para Length1 vs Weight\n",
    "plt.figure(figsize = [8, 6]) #Establecemos el tamaño de la figura\n",
    "plt.scatter(data=df, x='Length1', y='Weight', color= \"green\") \n",
    "plt.scatter(data=df, x='Width', y='Weight', color= \"blue\") \n"
   ]
  },
  {
   "cell_type": "markdown",
   "metadata": {},
   "source": [
    "### Pregunta 2\n",
    "#### ¿Cuál modelo tendrá una pendiente mayor?\n",
    "\n",
    "la pendiente para los datos de Width y Weight tendrá una mayor pendiente"
   ]
  },
  {
   "cell_type": "markdown",
   "metadata": {},
   "source": [
    "### Pregunta 3\n",
    "Entrenar un modelo de regresión lineal para predecir el peso (Weight), usando la variable Width."
   ]
  },
  {
   "cell_type": "code",
   "execution_count": 28,
   "metadata": {},
   "outputs": [],
   "source": [
    "X2 = np.array(df['Width']).reshape(-1, 1)\n",
    "y = df['Weight']\n",
    "\n",
    "X_train2, X_test2, y_train2, y_test2 = train_test_split(X2, y, test_size = 0.2)"
   ]
  },
  {
   "cell_type": "code",
   "execution_count": 33,
   "metadata": {},
   "outputs": [
    {
     "name": "stdout",
     "output_type": "stream",
     "text": [
      "score =  0.767013265627677\n",
      "MSE =  16976.79285704747\n"
     ]
    }
   ],
   "source": [
    "regre2 = LinearRegression()\n",
    "\n",
    "regre2.fit(X_train2, y_tbrain2)\n",
    "y_pred2 = regre2.predict(X_test2)\n",
    "\n",
    "print(\"score = \", r2_score(y_test2, y_pred2))\n",
    "print(\"MSE = \", mean_squared_error(y_test2, y_pred2))"
   ]
  },
  {
   "cell_type": "code",
   "execution_count": 38,
   "metadata": {},
   "outputs": [
    {
     "name": "stdout",
     "output_type": "stream",
     "text": [
      "slope: 191.28392801944673\n",
      "intercept: -441.33625595503935\n"
     ]
    }
   ],
   "source": [
    "print('slope:', regre2.coef_[0])\n",
    "print('intercept:', regre2.intercept_)"
   ]
  },
  {
   "cell_type": "code",
   "execution_count": 35,
   "metadata": {
    "scrolled": true
   },
   "outputs": [
    {
     "data": {
      "image/png": "[encoded data removed]",
      "text/plain": [
       "<Figure size 1000x600 with 1 Axes>"
      ]
     },
     "metadata": {},
     "output_type": "display_data"
    }
   ],
   "source": [
    "plt.figure(figsize=(10,6))\n",
    "plt.scatter(X_test2, y_test2, color ='b')\n",
    "plt.plot(X_test2, y_pred2, color ='k')\n",
    "plt.show()"
   ]
  },
  {
   "cell_type": "markdown",
   "metadata": {},
   "source": [
    "### ¿Cuál tiene mayor Coeficiente de determinación? ¿por qué cree que esto ocurre?\n"
   ]
  },
  {
   "cell_type": "markdown",
   "metadata": {},
   "source": [
    "el primer modelo que usa la variable \"lenght1\" para predecir el \"weight\" nos da un mayor R2 que el segundo modelo que usamos la variable \"width\" para predecir el \"weight\", esto quiere decir que la variable \"lenght1\" es un mejor predictor para \"weight\" "
   ]
  },
  {
   "cell_type": "markdown",
   "metadata": {
    "id": "SvhH6IUmClJg"
   },
   "source": [
    "## Las dos formas de hacer regresión lineal"
   ]
  },
  {
   "cell_type": "markdown",
   "metadata": {
    "id": "Z-wtRIFdCr84"
   },
   "source": [
    "En clase vimos que hay dos formas de lograr un modelo de regresión lineal. La primera es calculando el vector de parámetros que minimice la función de error, mediante derivadas. Vimos una fórmula para dicho mínimo. Éste es el método de usa el algoritmo *LinearRegression* de SKLearn.\n",
    "\n",
    "Sin embargo, vimos también que hay otra forma de encontrar dicho mínimo y es mediante el algoritmo del decenso de gradiente. (¿Recuerda la ventaja o desventaja de cada uno?, si o las recuerda, será mejor investigarlas)."
   ]
  },
  {
   "cell_type": "markdown",
   "metadata": {
    "id": "l0tAK3miD1oZ"
   },
   "source": [
    "Vamos a considerar un conjunto de datos muy simple: las cuatro esquinas de un cuadrado."
   ]
  },
  {
   "cell_type": "code",
   "execution_count": 43,
   "metadata": {
    "id": "jY90CxK8CrD2"
   },
   "outputs": [
    {
     "data": {
      "image/png": "[encoded data removed]",
      "text/plain": [
       "<Figure size 640x480 with 1 Axes>"
      ]
     },
     "metadata": {},
     "output_type": "display_data"
    }
   ],
   "source": [
    "x = np.array([0, 0, 1, 1])\n",
    "y = np.array([0, 1, 0, 1])\n",
    "plt.scatter(x, y, color = 'red')\n",
    "X = x.reshape(-1, 1)\n"
   ]
  },
  {
   "cell_type": "markdown",
   "metadata": {
    "id": "wiHYQnQxERYn"
   },
   "source": [
    "Podemos aplicar el algoritmo *LinearRegression* para intentar modelar linealmente este conunto de datos.\n",
    "\n",
    "**Ojo:** Tenga presentes dos cosas.\n",
    "-  Recuerde que LinearRegression recibe como datos de entrada un arreglo 2-dimensional, por lo cual debe redimensionar sus datos.\n",
    "- Al ser tan pocos datos, no separaremos en *train* y *test*. Símplemente entrenaremos el modelo usando *X*, *y* en lugar de *X_train*, *y_train*.\n"
   ]
  },
  {
   "cell_type": "markdown",
   "metadata": {
    "id": "757bX35nEqCG"
   },
   "source": [
    "### Ejercicio"
   ]
  },
  {
   "cell_type": "markdown",
   "metadata": {
    "id": "Wp5xdthhUjxZ"
   },
   "source": [
    "4. De acuerdo a lo visto en clase, cuál intuye que sería la recta que arrojaría este algoritmo como modelo de regresión lineal? ¿Por qué?\n",
    "5. Use *LinearRegression* de SKLearn para calcular dicho modelo. Calcule su coeficiente de determinación.\n",
    "6. ¿Observa algo particular en el coeficiente de determinación? Explique ka razón de dicho valor."
   ]
  },
  {
   "cell_type": "markdown",
   "metadata": {},
   "source": [
    "4) En principio diría que una constante en y=0.5 dado que esos puntos no son una función y pensaria que si se hace el ajuste de curva la constante en 0.5 es el promedio exacto de cada punto a la recta"
   ]
  },
  {
   "cell_type": "code",
   "execution_count": 50,
   "metadata": {},
   "outputs": [
    {
     "name": "stdout",
     "output_type": "stream",
     "text": [
      "score = 0.0\n",
      "MSE = 0.25\n"
     ]
    }
   ],
   "source": [
    "# 5)\n",
    "regr3 = LinearRegression()\n",
    "regr3.fit(X,y)\n",
    "y_pred3 = regr3.predict(X)\n",
    "\n",
    "print('score =', r2_score(y,y_pred3) )\n",
    "print('MSE =', mean_squared_error(y, y_pred3))"
   ]
  },
  {
   "cell_type": "code",
   "execution_count": 49,
   "metadata": {},
   "outputs": [
    {
     "data": {
      "image/png": "[encoded data removed]",
      "text/plain": [
       "<Figure size 1000x600 with 1 Axes>"
      ]
     },
     "metadata": {},
     "output_type": "display_data"
    }
   ],
   "source": [
    "plt.figure(figsize=(10,6))\n",
    "plt.scatter(X, y, color ='b')\n",
    "plt.plot(X, y_pred3, color ='k')\n",
    "plt.show()"
   ]
  },
  {
   "cell_type": "markdown",
   "metadata": {},
   "source": [
    "6) si el score es 0 y como podemos comprobar en la gráfica este modelo no le importan mis datos en X, lo que quiere decir que mi variable X no me sirve para predecir mi variable y, y es independiente de X. "
   ]
  },
  {
   "cell_type": "markdown",
   "metadata": {
    "id": "iFJygN8ARIZT"
   },
   "source": [
    "### Ejercicio: Ahora con decenso de gradiente"
   ]
  },
  {
   "cell_type": "markdown",
   "metadata": {
    "id": "UMaffF5cRTxU"
   },
   "source": [
    "Podemos entrenar un modelo de regresión lineal utilizando el decenso de gradiente. Existe un algoritmo en SKLearn que hace eso: *SGDRegressor*. Investigue un poco sobre este algoritmo y sus parámetros.\n",
    "\n",
    "7. Entrene un algoritmo de regresión lineal usando SGDRegressor. En dicho entrenamiento, utilice en primer lugar los parámetros:\n",
    "- learning_rate='constant'\n",
    "- eta0=0.01, max_iter=10000\n",
    "- tol=1e-3\n",
    "- random_state=0\n",
    "\n",
    "8. Compare el resultado con el de *LinearRegressor*. ¿Cuál dio mejor resultado? ¿Por qué?¿Convendría siempre utilizar el algoritmo que dió mejor resultado?\n",
    "\n",
    "9. Experimente con diferentes valores de los parámetros de SGDRegressor. Qué concluye acerca del efecto de variar dichos parámetros?\n",
    "\n",
    "10. Escriba algunas conclusiones generales del ejercicio."
   ]
  },
  {
   "cell_type": "code",
   "execution_count": 51,
   "metadata": {
    "id": "ncI4wyK5PqKh"
   },
   "outputs": [],
   "source": [
    "from sklearn.linear_model import SGDRegressor"
   ]
  },
  {
   "cell_type": "code",
   "execution_count": 62,
   "metadata": {},
   "outputs": [],
   "source": [
    "X_GD = np.array(df['Length1']).reshape(-1, 1)\n",
    "y_GD = df['Weight']\n",
    "\n",
    "XGD_train, XGD_test, yGD_train, yGD_test = train_test_split(X_GD, y_GD, test_size = 0.2)"
   ]
  },
  {
   "cell_type": "code",
   "execution_count": 59,
   "metadata": {},
   "outputs": [
    {
     "data": {
      "text/plain": [
       "0      242.0\n",
       "1      290.0\n",
       "2      340.0\n",
       "3      363.0\n",
       "4      430.0\n",
       "       ...  \n",
       "154     12.2\n",
       "155     13.4\n",
       "156     12.2\n",
       "157     19.7\n",
       "158     19.9\n",
       "Name: Weight, Length: 159, dtype: float64"
      ]
     },
     "execution_count": 59,
     "metadata": {},
     "output_type": "execute_result"
    }
   ],
   "source": []
  }
 ],
 "metadata": {
  "colab": {
   "provenance": []
  },
  "kernelspec": {
   "display_name": "Python 3 (ipykernel)",
   "language": "python",
   "name": "python3"
  },
  "language_info": {
   "codemirror_mode": {
    "name": "ipython",
    "version": 3
   },
   "file_extension": ".py",
   "mimetype": "text/x-python",
   "name": "python",
   "nbconvert_exporter": "python",
   "pygments_lexer": "ipython3",
   "version": "3.10.9"
  }
 },
 "nbformat": 4,
 "nbformat_minor": 1
}
